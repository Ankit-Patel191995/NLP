{
  "nbformat": 4,
  "nbformat_minor": 0,
  "metadata": {
    "colab": {
      "provenance": []
    },
    "kernelspec": {
      "name": "python3",
      "display_name": "Python 3"
    },
    "language_info": {
      "name": "python"
    }
  },
  "cells": [
    {
      "cell_type": "code",
      "execution_count": 1,
      "metadata": {
        "id": "6I5n0PHvZqJi"
      },
      "outputs": [],
      "source": [
        "from bs4 import BeautifulSoup\n",
        "from urllib.request import urlopen\n",
        "from nltk.tokenize import sent_tokenize\n",
        "import numpy as np\n",
        "import pandas as pd\n",
        "from nltk.corpus import stopwords\n",
        "from sklearn.metrics.pairwise import cosine_similarity\n",
        "import networkx as nx"
      ]
    },
    {
      "cell_type": "code",
      "source": [
        "pip install wikipedia-api"
      ],
      "metadata": {
        "colab": {
          "base_uri": "https://localhost:8080/"
        },
        "id": "ghLadfTZ_yAa",
        "outputId": "8744e323-7871-428c-d05e-421aa58def90"
      },
      "execution_count": 27,
      "outputs": [
        {
          "output_type": "stream",
          "name": "stdout",
          "text": [
            "Requirement already satisfied: wikipedia-api in /usr/local/lib/python3.10/dist-packages (0.6.0)\n",
            "Requirement already satisfied: requests in /usr/local/lib/python3.10/dist-packages (from wikipedia-api) (2.31.0)\n",
            "Requirement already satisfied: charset-normalizer<4,>=2 in /usr/local/lib/python3.10/dist-packages (from requests->wikipedia-api) (3.3.2)\n",
            "Requirement already satisfied: idna<4,>=2.5 in /usr/local/lib/python3.10/dist-packages (from requests->wikipedia-api) (3.4)\n",
            "Requirement already satisfied: urllib3<3,>=1.21.1 in /usr/local/lib/python3.10/dist-packages (from requests->wikipedia-api) (2.0.7)\n",
            "Requirement already satisfied: certifi>=2017.4.17 in /usr/local/lib/python3.10/dist-packages (from requests->wikipedia-api) (2023.7.22)\n"
          ]
        }
      ]
    },
    {
      "cell_type": "code",
      "source": [
        "T1 = open('wikipedia.py', mode='r', encoding='UTF-8')"
      ],
      "metadata": {
        "id": "3Fq7oiez-7mF"
      },
      "execution_count": 26,
      "outputs": []
    },
    {
      "cell_type": "code",
      "source": [
        "def get_only_text(url):\n",
        "    \"\"\"\n",
        "    return the title and the text of the article\n",
        "    at the specified url\n",
        "    \"\"\"\n",
        "    page = urlopen(url)\n",
        "    soup = BeautifulSoup(page, \"lxml\")\n",
        "    text = ' '.join(map(lambda p: p.text, soup.find_all('p')))\n",
        "\n",
        "    print (\"=====================\")\n",
        "    print (text)\n",
        "    print (\"=====================\")\n",
        "\n",
        "    return soup.title.text, text"
      ],
      "metadata": {
        "id": "bgBZLa0KZ87M"
      },
      "execution_count": 2,
      "outputs": []
    },
    {
      "cell_type": "code",
      "source": [
        "url=\"https://www.whitehouse.gov/briefing-room/statements-releases/2023/11/09/statement-from-president-joe-biden-on-senator-joe-manchin/\"\n",
        "text = get_only_text(url)\n",
        "sentences = []\n",
        "for s in text:\n",
        "    sentences.append(sent_tokenize(s))\n",
        "\n",
        "sentences = [y for x in sentences for y in x]\n",
        "sentences[30:40]"
      ],
      "metadata": {
        "id": "MuczMMHlcW-T",
        "colab": {
          "base_uri": "https://localhost:8080/"
        },
        "outputId": "02837279-47d3-47c5-a70c-207a8f4a3f5e"
      },
      "execution_count": 3,
      "outputs": [
        {
          "output_type": "stream",
          "name": "stdout",
          "text": [
            "=====================\n",
            "\n",
            "The White House\n",
            "\t\t\t\t\t\t\t\t1600 Pennsylvania Ave NW\n",
            "\t\t\t\t\t\t\t\tWashington, DC 20500\n",
            "\t\t\t\t\t\t\t For more than forty years – as a state legislator, a Secretary of State, a Governor, and a Senator – Joe Manchin has dedicated himself to serving the people of his beloved West Virginia. During my time as Vice President and now as President, Joe and I have worked together to get things done for hardworking families. From the Bipartisan Infrastructure Law – which is upgrading America’s aging infrastructure, to the PACT Act – which is making sure our veterans get the care they deserve, to the Inflation Reduction Act – which is strengthening our energy security and lowering prescription drug costs for our seniors, to the most meaningful gun safety legislation in three decades, we’ve made real progress. I was also proud when Joe voted to make history and confirm Ketanji Brown Jackson as the first Black woman to serve on the United States Supreme Court. Joe, Gayle, and the entire Manchin family should feel proud of the Senator’s service to West Virginia and to our country. I look forward to continuing our work together to get things done for the American people. ### We'll be in touch with the latest information on how President Biden and his administration are working for the American people, as well as ways you can get involved and help our country build back better. \n",
            "\n",
            "\t\t\t\t\t\t\t\t\t\t\t\t\t\t\t\t\t\tOpt in to send and receive text messages from President Biden.\t\t\t\t\t\t\t\t\n",
            " \n",
            "The White House\n",
            "\t\t\t\t\t\t\t\t1600 Pennsylvania Ave NW\n",
            "\t\t\t\t\t\t\t\tWashington, DC 20500\n",
            "\t\t\t\t\t\t\t\n",
            "=====================\n"
          ]
        },
        {
          "output_type": "execute_result",
          "data": {
            "text/plain": [
              "[]"
            ]
          },
          "metadata": {},
          "execution_count": 3
        }
      ]
    },
    {
      "cell_type": "code",
      "source": [
        "# Extract word vectors\n",
        "word_embeddings = {}\n",
        "f = open('glove.6B.100d.txt', encoding='utf-8')\n",
        "for line in f:\n",
        "    values = line.split()\n",
        "    word = values[0]\n",
        "    coefs = np.asarray(values[1:], dtype='float32')\n",
        "    word_embeddings[word] = coefs\n",
        "f.close()"
      ],
      "metadata": {
        "id": "bGzbQqUGMiRe"
      },
      "execution_count": 4,
      "outputs": []
    },
    {
      "cell_type": "code",
      "source": [
        "len(word_embeddings)"
      ],
      "metadata": {
        "id": "IMfay7hOMiUX",
        "colab": {
          "base_uri": "https://localhost:8080/"
        },
        "outputId": "9561c6a2-3532-42f5-a4a8-b2f0f3310cce"
      },
      "execution_count": 5,
      "outputs": [
        {
          "output_type": "execute_result",
          "data": {
            "text/plain": [
              "400000"
            ]
          },
          "metadata": {},
          "execution_count": 5
        }
      ]
    },
    {
      "cell_type": "code",
      "source": [
        "# remove punctuations, numbers and special characters\n",
        "clean_sentences = pd.Series(sentences).str.replace(\"[^a-zA-Z]\", \" \")"
      ],
      "metadata": {
        "id": "3aZebn_mMiXf",
        "colab": {
          "base_uri": "https://localhost:8080/"
        },
        "outputId": "5bc4b2b2-7b41-4f8a-8f49-9b4c214a139e"
      },
      "execution_count": 6,
      "outputs": [
        {
          "output_type": "stream",
          "name": "stderr",
          "text": [
            "<ipython-input-6-a477335c5891>:2: FutureWarning: The default value of regex will change from True to False in a future version.\n",
            "  clean_sentences = pd.Series(sentences).str.replace(\"[^a-zA-Z]\", \" \")\n"
          ]
        }
      ]
    },
    {
      "cell_type": "code",
      "source": [
        "# change to lowercase\n",
        "import nltk\n",
        "nltk.download('stopwords')\n",
        "clean_sentences = [s.lower() for s in clean_sentences]\n",
        "stop_words = stopwords.words('english')\n",
        "# function to remove stopwords\n",
        "def remove_stopwords(sen):\n",
        "    sen_new = \" \".join([i for i in sen if i not in stop_words])\n",
        "    return sen_new\n",
        "clean_sentences = [remove_stopwords(r.split()) for r in clean_sentences]\n",
        "sentence_vectors = []\n",
        "for i in clean_sentences:\n",
        "    if len(i) != 0:\n",
        "        v = sum([word_embeddings.get(w, np.zeros((100,))) for w in i.split()])/(len(i.split())+0.001)\n",
        "    else:\n",
        "        v = np.zeros((100,))\n",
        "    sentence_vectors.append(v)"
      ],
      "metadata": {
        "id": "Nmcl21VlMiaV",
        "colab": {
          "base_uri": "https://localhost:8080/"
        },
        "outputId": "52c3b2cd-06a7-403b-c6dc-984bbcf0b364"
      },
      "execution_count": 7,
      "outputs": [
        {
          "output_type": "stream",
          "name": "stderr",
          "text": [
            "[nltk_data] Downloading package stopwords to /root/nltk_data...\n",
            "[nltk_data]   Package stopwords is already up-to-date!\n"
          ]
        }
      ]
    },
    {
      "cell_type": "code",
      "source": [
        "# Create an empty similarity matrix\n",
        "sim_mat = np.zeros([len(sentences), len(sentences)])\n",
        "for i in range(len(sentences)):\n",
        "    for j in range(len(sentences)):\n",
        "        if i != j:\n",
        "            sim_mat[i][j] = cosine_similarity(sentence_vectors[i].reshape(1,100), sentence_vectors[j].reshape(1,100))[0,0]\n",
        "nx_graph = nx.from_numpy_array(sim_mat)\n",
        "scores = nx.pagerank(nx_graph)\n",
        "ranked_sentences = sorted(((scores[i],s) for i,s in enumerate(sentences)), reverse=True)"
      ],
      "metadata": {
        "id": "ruG44ZMhMidN"
      },
      "execution_count": 8,
      "outputs": []
    },
    {
      "cell_type": "code",
      "source": [
        "# Extract top 15 sentences as the summary representation\n",
        "for i in range(10):\n",
        "    print(ranked_sentences[i][1])"
      ],
      "metadata": {
        "id": "e3fRWpEAMif0",
        "colab": {
          "base_uri": "https://localhost:8080/"
        },
        "outputId": "b2ad79b4-42ce-46b3-9ab8-7c62539dfe64"
      },
      "execution_count": 9,
      "outputs": [
        {
          "output_type": "stream",
          "name": "stdout",
          "text": [
            "### We'll be in touch with the latest information on how President Biden and his administration are working for the American people, as well as ways you can get involved and help our country build back better.\n",
            "During my time as Vice President and now as President, Joe and I have worked together to get things done for hardworking families.\n",
            "I was also proud when Joe voted to make history and confirm Ketanji Brown Jackson as the first Black woman to serve on the United States Supreme Court.\n",
            "\n",
            "The White House\n",
            "\t\t\t\t\t\t\t\t1600 Pennsylvania Ave NW\n",
            "\t\t\t\t\t\t\t\tWashington, DC 20500\n",
            "\t\t\t\t\t\t\t For more than forty years – as a state legislator, a Secretary of State, a Governor, and a Senator – Joe Manchin has dedicated himself to serving the people of his beloved West Virginia.\n",
            "Joe, Gayle, and the entire Manchin family should feel proud of the Senator’s service to West Virginia and to our country.\n",
            "I look forward to continuing our work together to get things done for the American people.\n",
            "From the Bipartisan Infrastructure Law – which is upgrading America’s aging infrastructure, to the PACT Act – which is making sure our veterans get the care they deserve, to the Inflation Reduction Act – which is strengthening our energy security and lowering prescription drug costs for our seniors, to the most meaningful gun safety legislation in three decades, we’ve made real progress.\n",
            "Statement from President Joe Biden on Senator Joe Manchin | The White House\n",
            "Opt in to send and receive text messages from President Biden.\n",
            "The White House\n",
            "\t\t\t\t\t\t\t\t1600 Pennsylvania Ave NW\n",
            "\t\t\t\t\t\t\t\tWashington, DC 20500\n"
          ]
        }
      ]
    },
    {
      "cell_type": "code",
      "source": [
        "def get_only_text(url):\n",
        "    \"\"\"\n",
        "    return the title and the text of the article\n",
        "    at the specified url\n",
        "    \"\"\"\n",
        "    page = urlopen(url)\n",
        "    soup = BeautifulSoup(page, \"lxml\")\n",
        "    text = ' '.join(map(lambda p: p.text, soup.find_all('p')))\n",
        "\n",
        "    print (\"=====================\")\n",
        "    print (text)\n",
        "    print (\"=====================\")\n",
        "\n",
        "    return soup.title.text, text"
      ],
      "metadata": {
        "id": "AVpQXLNOMiit"
      },
      "execution_count": 10,
      "outputs": []
    },
    {
      "cell_type": "code",
      "source": [
        "url=\"https://www.whitehouse.gov/briefing-room/statements-releases/2023/11/09/statement-from-president-joe-biden-on-senator-joe-manchin/\"\n",
        "text = get_only_text(url)"
      ],
      "metadata": {
        "colab": {
          "base_uri": "https://localhost:8080/"
        },
        "id": "3KohNjZoCXaM",
        "outputId": "d2e4e007-f827-461c-ab9a-5fa430a086c8"
      },
      "execution_count": 11,
      "outputs": [
        {
          "output_type": "stream",
          "name": "stdout",
          "text": [
            "=====================\n",
            "\n",
            "The White House\n",
            "\t\t\t\t\t\t\t\t1600 Pennsylvania Ave NW\n",
            "\t\t\t\t\t\t\t\tWashington, DC 20500\n",
            "\t\t\t\t\t\t\t For more than forty years – as a state legislator, a Secretary of State, a Governor, and a Senator – Joe Manchin has dedicated himself to serving the people of his beloved West Virginia. During my time as Vice President and now as President, Joe and I have worked together to get things done for hardworking families. From the Bipartisan Infrastructure Law – which is upgrading America’s aging infrastructure, to the PACT Act – which is making sure our veterans get the care they deserve, to the Inflation Reduction Act – which is strengthening our energy security and lowering prescription drug costs for our seniors, to the most meaningful gun safety legislation in three decades, we’ve made real progress. I was also proud when Joe voted to make history and confirm Ketanji Brown Jackson as the first Black woman to serve on the United States Supreme Court. Joe, Gayle, and the entire Manchin family should feel proud of the Senator’s service to West Virginia and to our country. I look forward to continuing our work together to get things done for the American people. ### We'll be in touch with the latest information on how President Biden and his administration are working for the American people, as well as ways you can get involved and help our country build back better. \n",
            "\n",
            "\t\t\t\t\t\t\t\t\t\t\t\t\t\t\t\t\t\tOpt in to send and receive text messages from President Biden.\t\t\t\t\t\t\t\t\n",
            " \n",
            "The White House\n",
            "\t\t\t\t\t\t\t\t1600 Pennsylvania Ave NW\n",
            "\t\t\t\t\t\t\t\tWashington, DC 20500\n",
            "\t\t\t\t\t\t\t\n",
            "=====================\n"
          ]
        }
      ]
    },
    {
      "cell_type": "code",
      "source": [
        "sentences = []\n",
        "for s in text:\n",
        "    sentences.append(sent_tokenize(s))\n",
        "\n",
        "sentences = [y for x in sentences for y in x]\n",
        "sentences[30:40]"
      ],
      "metadata": {
        "colab": {
          "base_uri": "https://localhost:8080/"
        },
        "id": "q25fzISOCXcy",
        "outputId": "1219df6f-480e-4bd2-d9c4-ef11db7e0f04"
      },
      "execution_count": 12,
      "outputs": [
        {
          "output_type": "execute_result",
          "data": {
            "text/plain": [
              "[]"
            ]
          },
          "metadata": {},
          "execution_count": 12
        }
      ]
    },
    {
      "cell_type": "code",
      "source": [
        "# Extract word vectors\n",
        "word_embeddings = {}\n",
        "f = open('glove.6B.100d.txt', encoding='utf-8')\n",
        "for line in f:\n",
        "    values = line.split()\n",
        "    word = values[0]\n",
        "    coefs = np.asarray(values[1:], dtype='float32')\n",
        "    word_embeddings[word] = coefs\n",
        "f.close()"
      ],
      "metadata": {
        "id": "h_mtH3sZCXfp"
      },
      "execution_count": 13,
      "outputs": []
    },
    {
      "cell_type": "code",
      "source": [
        "len(word_embeddings)"
      ],
      "metadata": {
        "colab": {
          "base_uri": "https://localhost:8080/"
        },
        "id": "p85AwM23CoPw",
        "outputId": "01819316-45ff-4e92-8dbb-74e58dbbbb38"
      },
      "execution_count": 14,
      "outputs": [
        {
          "output_type": "execute_result",
          "data": {
            "text/plain": [
              "400000"
            ]
          },
          "metadata": {},
          "execution_count": 14
        }
      ]
    },
    {
      "cell_type": "code",
      "source": [
        "# remove punctuations, numbers and special characters\n",
        "clean_sentences = pd.Series(sentences).str.replace(\"[^a-zA-Z]\", \" \")"
      ],
      "metadata": {
        "colab": {
          "base_uri": "https://localhost:8080/"
        },
        "id": "EtuuCYYACpQ_",
        "outputId": "8514495d-5f58-4308-a27f-2f0fb3200122"
      },
      "execution_count": 15,
      "outputs": [
        {
          "output_type": "stream",
          "name": "stderr",
          "text": [
            "<ipython-input-15-a477335c5891>:2: FutureWarning: The default value of regex will change from True to False in a future version.\n",
            "  clean_sentences = pd.Series(sentences).str.replace(\"[^a-zA-Z]\", \" \")\n"
          ]
        }
      ]
    },
    {
      "cell_type": "code",
      "source": [
        "# change to lowercase\n",
        "clean_sentences = [s.lower() for s in clean_sentences]\n",
        "stop_words = stopwords.words('english')\n",
        "# function to remove stopwords\n",
        "def remove_stopwords(sen):\n",
        "    sen_new = \" \".join([i for i in sen if i not in stop_words])\n",
        "    return sen_new\n",
        "clean_sentences = [remove_stopwords(r.split()) for r in clean_sentences]\n",
        "sentence_vectors = []\n",
        "for i in clean_sentences:\n",
        "    if len(i) != 0:\n",
        "        v = sum([word_embeddings.get(w, np.zeros((100,))) for w in i.split()])/(len(i.split())+0.001)\n",
        "    else:\n",
        "        v = np.zeros((100,))\n",
        "    sentence_vectors.append(v)\n",
        "# Create an empty similarity matrix\n",
        "sim_mat = np.zeros([len(sentences), len(sentences)])\n",
        "for i in range(len(sentences)):\n",
        "    for j in range(len(sentences)):\n",
        "        if i != j:\n",
        "            sim_mat[i][j] = cosine_similarity(sentence_vectors[i].reshape(1,100), sentence_vectors[j].reshape(1,100))[0,0]\n",
        "nx_graph = nx.from_numpy_array(sim_mat)\n",
        "scores = nx.pagerank(nx_graph)\n",
        "ranked_sentences = sorted(((scores[i],s) for i,s in enumerate(sentences)), reverse=True)\n",
        "# Extract top 15 sentences as the summary representation\n",
        "for i in range(10):\n",
        "    print(ranked_sentences[i][1])"
      ],
      "metadata": {
        "colab": {
          "base_uri": "https://localhost:8080/"
        },
        "id": "5xEFzoB-CpTv",
        "outputId": "29b6b852-66fe-4068-cd6e-8b1ff66139a0"
      },
      "execution_count": 16,
      "outputs": [
        {
          "output_type": "stream",
          "name": "stdout",
          "text": [
            "### We'll be in touch with the latest information on how President Biden and his administration are working for the American people, as well as ways you can get involved and help our country build back better.\n",
            "During my time as Vice President and now as President, Joe and I have worked together to get things done for hardworking families.\n",
            "I was also proud when Joe voted to make history and confirm Ketanji Brown Jackson as the first Black woman to serve on the United States Supreme Court.\n",
            "\n",
            "The White House\n",
            "\t\t\t\t\t\t\t\t1600 Pennsylvania Ave NW\n",
            "\t\t\t\t\t\t\t\tWashington, DC 20500\n",
            "\t\t\t\t\t\t\t For more than forty years – as a state legislator, a Secretary of State, a Governor, and a Senator – Joe Manchin has dedicated himself to serving the people of his beloved West Virginia.\n",
            "Joe, Gayle, and the entire Manchin family should feel proud of the Senator’s service to West Virginia and to our country.\n",
            "I look forward to continuing our work together to get things done for the American people.\n",
            "From the Bipartisan Infrastructure Law – which is upgrading America’s aging infrastructure, to the PACT Act – which is making sure our veterans get the care they deserve, to the Inflation Reduction Act – which is strengthening our energy security and lowering prescription drug costs for our seniors, to the most meaningful gun safety legislation in three decades, we’ve made real progress.\n",
            "Statement from President Joe Biden on Senator Joe Manchin | The White House\n",
            "Opt in to send and receive text messages from President Biden.\n",
            "The White House\n",
            "\t\t\t\t\t\t\t\t1600 Pennsylvania Ave NW\n",
            "\t\t\t\t\t\t\t\tWashington, DC 20500\n"
          ]
        }
      ]
    },
    {
      "cell_type": "code",
      "source": [],
      "metadata": {
        "id": "sKvZ-pnlAT8s"
      },
      "execution_count": null,
      "outputs": []
    },
    {
      "cell_type": "code",
      "source": [],
      "metadata": {
        "id": "LLpfJTNCAUX4"
      },
      "execution_count": null,
      "outputs": []
    }
  ]
}